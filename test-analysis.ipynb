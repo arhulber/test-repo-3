{
 "cells": [
  {
   "cell_type": "markdown",
   "id": "ea4941f3",
   "metadata": {},
   "source": [
    "First attempt at spectroscopy csv data analysis"
   ]
  },
  {
   "cell_type": "code",
   "execution_count": null,
   "id": "8a2a26fe",
   "metadata": {},
   "outputs": [],
   "source": [
    "import pandas as pd\n",
    "import matplotlib.pyplot as plt\n",
    "import os\n",
    "\n",
    "# Load data\n",
    "data = pd.read_csv(\"data/sampledata.csv\")\n",
    "\n",
    "\n",
    "# Plot absorption spectrum\n",
    "plt.figure(figsize=(8, 5))\n",
    "plt.plot(data['wavelength_nm'], data['absorbance'], marker='o', linestyle=':')\n",
    "plt.xlabel(\"Wavelength (nm)\")\n",
    "plt.ylabel(\"Absorbance\")\n",
    "plt.title(\"Absorption Spectrum\")\n",
    "plt.grid(True)\n",
    "\n",
    "\n",
    "\n",
    "\n",
    "plt.show #JUST SHOWS THE plot below\n",
    "\n",
    "#\n",
    "\n",
    "# Make sure 'plots/' directory exists, this will create a folder called plots for the figure to go\n",
    "#os.makedirs(\"plots\", exist_ok=True)\n",
    "\n",
    "# Save figure\n",
    "#output_path = \"plots/absorption_plot.png\" #defines the path where you want to put the figure, names it absorption_plot.png\n",
    "#plt.savefig(output_path, dpi=300) #this just saves it into the path, idk what dpi does\n",
    "#plt.close()\n",
    "\n",
    "#print(f\"Spectrum saved to: {output_path}\")"
   ]
  },
  {
   "cell_type": "code",
   "execution_count": null,
   "id": "e3dce060",
   "metadata": {},
   "outputs": [],
   "source": [
    "plt.figure(figsize=(5, 8))\n",
    "plt.plot(data['absorbance'], data['wavelength_nm'], marker='o', linestyle=':')\n",
    "plt.xlabel(\"Absorbance\")\n",
    "plt.ylabel(\"Wavelength (nm)\")\n",
    "plt.title(\"Absorption Spectrum (Reversed)\")\n",
    "plt.xlim(0, 1)  # Set x-axis limits\n",
    "plt.ylim(300, 800)  # Set y-axis limits\n",
    "plt.xticks(rotation=0)  # Rotate x-axis labels for better readability\n",
    "plt.tight_layout()  # Adjust layout to prevent clipping of labels\n",
    "plt.grid(True)\n",
    "plt.show()  # Show the plot"
   ]
  },
  {
   "cell_type": "code",
   "execution_count": null,
   "id": "450d8581",
   "metadata": {},
   "outputs": [],
   "source": []
  },
  {
   "cell_type": "code",
   "execution_count": null,
   "id": "13ef2059",
   "metadata": {},
   "outputs": [],
   "source": []
  }
 ],
 "metadata": {
  "kernelspec": {
   "display_name": "Python 3",
   "language": "python",
   "name": "python3"
  },
  "language_info": {
   "codemirror_mode": {
    "name": "ipython",
    "version": 3
   },
   "file_extension": ".py",
   "mimetype": "text/x-python",
   "name": "python",
   "nbconvert_exporter": "python",
   "pygments_lexer": "ipython3",
   "version": "3.11.9"
  }
 },
 "nbformat": 4,
 "nbformat_minor": 5
}
